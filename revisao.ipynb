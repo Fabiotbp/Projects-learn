{
  "nbformat": 4,
  "nbformat_minor": 0,
  "metadata": {
    "colab": {
      "provenance": [],
      "authorship_tag": "ABX9TyNEMoWZFxUu8jrQ6Rf9fs1C",
      "include_colab_link": true
    },
    "kernelspec": {
      "name": "python3",
      "display_name": "Python 3"
    },
    "language_info": {
      "name": "python"
    }
  },
  "cells": [
    {
      "cell_type": "markdown",
      "metadata": {
        "id": "view-in-github",
        "colab_type": "text"
      },
      "source": [
        "<a href=\"https://colab.research.google.com/github/Fabiotbp/Projects-learn/blob/main/revisao.ipynb\" target=\"_parent\"><img src=\"https://colab.research.google.com/assets/colab-badge.svg\" alt=\"Open In Colab\"/></a>"
      ]
    },
    {
      "cell_type": "markdown",
      "source": [
        "Revisão: Introdução à Programação\n",
        "\n",
        "https://view.genial.ly/635878801ea7ae001956d98b\n",
        "\n",
        "DADOS\n",
        "- Inteiro (int)\n",
        "- Float\n",
        "- String\n",
        "- Boolean\n",
        "\n",
        "\n",
        "OPERADORES\n",
        "Atribuição \"=\"\n",
        "Aritméticos\n",
        "- Soma \"+\"\n",
        "- Subtração \"-\"\n",
        "- Multiplicação \"*\"\n",
        "- Divisão \"/\"\n",
        "- Módulo \"%\" - resto da divisão\n",
        "\n",
        "RELACIONAIS\n",
        "- Igual \"==\"\n",
        "- Diferente \"!=\"\n",
        "- Maior que \">\"\n",
        "- Maior ou igual que \">=\"\n",
        "- Menor que \"<\"\n",
        "- Menou ou igual que \"<=\"\n",
        "\n",
        "LOGICOS\n",
        " - And\n",
        " - Or\n",
        " - Not ou !\n",
        "\n",
        " ESTRUTURAS CONDICIONAIS\n",
        " - Função if():\n",
        " - Função elif():\n",
        " - Função else:\n",
        "\n",
        " LAÇOS OU LOOPS\n",
        " Laço for\n",
        "- Precisamos definir uma variável contadora, uma condição de parada, e o incremento ou decremento.\n",
        "\n",
        "Função range()\n",
        "- Pode receber um, dois ou três argumentos;\n",
        "- É usado geralmente em conjunto com o comando for.\n",
        "\n",
        "Laço while\n",
        "- É necessário incluir o incremento ou decremento dentro do laço.\n",
        "\n",
        "break\n",
        "- Interrompe um loop\n",
        "\n",
        "continue\n",
        "- Interrompe a “volta atual” do loop.\n",
        "\n",
        "\n",
        "FUNÇÕES\n",
        "\n",
        "Estrutura:\n",
        "- Nome\n",
        "- Parâmetro(s)\n",
        "- Resposta ou retorno\n",
        "\n",
        "Sintaxe:\n",
        "- Palavra reservada def (apenas para declaração de funções)\n",
        "- Indentação\n",
        "\n",
        "Funções nativas\n",
        "Ex. print(), range(),\n",
        "type() etc.\n",
        "\n",
        "ENTRADA E SAÍDA DE DADOS\n",
        "\n",
        "- Função print()\n",
        "- Função input()\n",
        "\n",
        "\n",
        "TRATAMENTO DE ERROS\n",
        "\n",
        "Resolução com if\n",
        "- Para tratar erros previsíveis\n",
        "\n",
        "Resolução com exceptions\n",
        "\n",
        "- Para tratar erros \"inesperados\"\n",
        "- Podemos \"levantar exceções\" manualmente com raise Exception()\n",
        "\n"
      ],
      "metadata": {
        "id": "vbHzeamWKQTR"
      }
    },
    {
      "cell_type": "code",
      "source": [
        "# Operações Aritméticas\n",
        "# // divisão inteira exemplo 5/2 será igual a 2\n",
        "# Ordem de precedência 1 - parenteses [] 2 - potencias ** 3 - * , / , // , / 4 - + , -\n",
        "\n",
        "5+3*2\n",
        "5**2\n",
        "19//2\n",
        "19/2\n",
        "365**522\n",
        "18%2\n",
        "122%3\n",
        "4**3\n",
        "pow(4,3) # funçao potencia\n",
        "81**(1/2) # raiz quadrada\n",
        "127**(1/3) # raiz cubica\n",
        "\n",
        "\"oi\" + \"olá\"\n",
        "\"oi\" *5\n",
        "\"=\"*20\n",
        "print(\"=\"*20)\n",
        "#nome = str(input(\"Qual é o seu nome?\"))\n",
        "#print(\"Prazer em te conhecer {:=^20}!\".format(nome))\n",
        "\n",
        "n1 = int(input(\"Um valor: \"))\n",
        "n2 = int(input(\"Outro valor:\"))\n",
        "#print(\"A soma vale {}\". format(n1+n2))\n",
        "s = n1 + n2\n",
        "m = n1 * n2\n",
        "d = n1 / n2\n",
        "di = n1 // n2\n",
        "e = n1 ** n2\n",
        "print(\"A soma é {}, \\n o produto é {} e a \\n divisão é {:.3f}\".format(s, m, d), end=\" \")\n",
        "print(\"Divisão inteira {} e potencia {}\".format(di, e))"
      ],
      "metadata": {
        "id": "VJfVEojlPmGk"
      },
      "execution_count": null,
      "outputs": []
    },
    {
      "cell_type": "code",
      "source": [
        "print(\"Antecessor e Sucessor\") # desafio 005\n",
        "n1 = int(input(\"Informe um número: \"))\n",
        "print(\"O número digitado foi\", n1)\n",
        "print(\"O antecessor é:\", n1 - 1 )\n",
        "print(\"O sucessor é:\", n1 + 1)"
      ],
      "metadata": {
        "id": "Mt1fstOgcj-p"
      },
      "execution_count": null,
      "outputs": []
    },
    {
      "cell_type": "code",
      "source": [
        "n = int(input(\"Digite um número:\")) # Versão Curso em Vídeo\n",
        "a = n - 1\n",
        "s = n +1\n",
        "print(\"Analisando o valor {}, seu antecessor é {} e o sucessor é {}\".format(n, a, s))\n"
      ],
      "metadata": {
        "id": "G4VD6TJV92ji"
      },
      "execution_count": null,
      "outputs": []
    },
    {
      "cell_type": "code",
      "source": [
        "n = int(input(\"Digite um número:\")) # Versão Curso em Vídeo\n",
        "print(\"Analisando o número {}, seu antecessor é {} e o sucessor é {}\".format(n, (n-1), (n+1)))"
      ],
      "metadata": {
        "colab": {
          "base_uri": "https://localhost:8080/"
        },
        "id": "AiYnF5Ms-jiZ",
        "outputId": "f6ae2a36-56e9-4ed4-83b7-3ed24ed7d5d6"
      },
      "execution_count": null,
      "outputs": [
        {
          "output_type": "stream",
          "name": "stdout",
          "text": [
            "Digite um número:7\n",
            "Analisando o número 7, seu antecessor é 6 e o sucessor é 8\n"
          ]
        }
      ]
    },
    {
      "cell_type": "code",
      "source": [
        "print(\"Dobro, triplo e raiz quadrada de um número!\")\n",
        "n1 = int(input(\"Informe um numero:\"))\n",
        "d = n1 + 2\n",
        "t = n1 * 3\n",
        "r = n1 ** (1/2)\n",
        "print(\"O numero escolhido foi {}. \\n O dobro do número é {} \\n O triplo do número é {} \\n a raiz quadrada do número é {}.\".format(n1, d, t, r), end=\"\")"
      ],
      "metadata": {
        "id": "XzaoJxTdgOps"
      },
      "execution_count": null,
      "outputs": []
    },
    {
      "cell_type": "code",
      "source": [
        "# Desafio 006\n",
        "# Crie um algoritmo que lei um número e mostre o seu dobro, triplo e raiz quadrada\n",
        "n = int(input(\"Digite um número:\"))\n",
        "d = n * 2\n",
        "t = n * 3\n",
        "r = n ** (1/2)\n",
        "print(\"O dobro de {} vale {}.\".format(n, d))\n",
        "print(\"O triplo de {} vale {}. \\nA raiz quadrada de {} é igual a {:.2f}.\".format(n, t, n, r))"
      ],
      "metadata": {
        "id": "iUq1kszR_Lli"
      },
      "execution_count": null,
      "outputs": []
    },
    {
      "cell_type": "code",
      "source": [
        "n = int(input(\"Digite um número:\"))\n",
        "print(\"O dobro de {} vale {}.\".format(n, (n*2)))\n",
        "print(\"O triplo de {} vale {}. \\nA raiz quadrada de {} é igual a {:.2f}.\".format(n, (n*3), n,(n**(1/2))))"
      ],
      "metadata": {
        "id": "stJbQJR2CKqT"
      },
      "execution_count": null,
      "outputs": []
    },
    {
      "cell_type": "code",
      "source": [
        "# Desafio 007\n",
        "# Desenvolva um programa que leia as duas notas de um aluno e calcule e mostre a sua média.\n",
        "n1 = float(input(\"Primeira nota do aluno: \"))\n",
        "n2 = float(input(\"Segunda nota do aluno: \"))\n",
        "média = (n1 +n2) / 2\n",
        "print(\"A média entre {:.1f} e {:.1f} é igual a {:.1f}.\".format(n1, n2, média))\n",
        "# O arredondamento pode ser usado incluindo :.1f em {}"
      ],
      "metadata": {
        "id": "X4luolTPC8JH"
      },
      "execution_count": null,
      "outputs": []
    },
    {
      "cell_type": "code",
      "source": [
        "# Desafio 008\n",
        "# Escreva um programa que leia um valor em metros e o exiba convertido em centímetros e milímetros.\n",
        "\n",
        "# Relembrando: km hm dam m dm cm mm\n",
        "\n",
        "medida = float(input(\"Uma distância em metros: \"))\n",
        "cm = medida * 100\n",
        "mm = medida * 1000\n",
        "print(\"A medida {}m corresponde a {:.0f}cm e {:.0f}mm.\".format(medida, cm, mm))\n"
      ],
      "metadata": {
        "id": "6diEXZsnF5Ck"
      },
      "execution_count": null,
      "outputs": []
    },
    {
      "cell_type": "code",
      "source": [
        "## Desafio 009\n",
        "# Faça programa que leia um número inteiro qualquer e mostre a sua tabuada.\n",
        "\n",
        "num = int(input(\"Digite um número para ver sua tabuada: \"))\n",
        "print(\"-\"* 12)\n",
        "print(\"{} x {:2} = {}\".format(num, 1, num*1))\n",
        "print(\"{} x {:2} = {}\".format(num, 2, num*2))\n",
        "print(\"{} x {:2} = {}\".format(num, 3, num*3))\n",
        "print(\"{} x {:2} = {}\".format(num, 4, num*4))\n",
        "print(\"{} x {:2} = {}\".format(num, 5, num*5))\n",
        "print(\"{} x {:2} = {}\".format(num, 6, num*6))\n",
        "print(\"{} x {:2} = {}\".format(num, 7, num*7))\n",
        "print(\"{} x {:2} = {}\".format(num, 8, num*8))\n",
        "print(\"{} x {:2} = {}\".format(num, 9, num*9))\n",
        "print(\"{} x {:2} = {}\".format(num, 10, num*10))\n",
        "print(\"-\"* 12)\n"
      ],
      "metadata": {
        "id": "gquBSU0jINUG"
      },
      "execution_count": null,
      "outputs": []
    },
    {
      "cell_type": "code",
      "source": [
        "# Aula 013 - Curso em Vídeo - Laços de Repetição\n",
        "\n",
        "s = 0\n",
        "for c in range(0,4):\n",
        "  n = int(input(\"Digite um valor: \"))\n",
        "  s += n # += é a mesma coisa que s + n\n",
        "print(\"O somatório de todos dos valores é {}.\".format(s))"
      ],
      "metadata": {
        "id": "81UiwZlZLIr-"
      },
      "execution_count": null,
      "outputs": []
    },
    {
      "cell_type": "code",
      "source": [
        "# Estrutura condicional simples apenas um if, estrutura condicional composta tem um else.\n",
        "\n",
        "n1 = float(input(\"Digite a primeira nota: \"))\n",
        "n2 = float(input(\"Digite a segunda nota: \"))\n",
        "m = (n1+n2) / 2\n",
        "print(\"A sua média foi {:.1f}\".format(m))\n",
        "#if m >= 6.0:\n",
        "  #print(\"Sua média foi boa! PARABÉNS!\")\n",
        "#else:\n",
        "  #print(\"Sua média foi ruim! ESTUDE MAIS!\")\n",
        "print(\"PARABENS!\" if m >=6 else \"ESTUDE MAIS!\")   # CONDIÇÃO SIMPLICIADA"
      ],
      "metadata": {
        "id": "6gCO3fSaWEqf"
      },
      "execution_count": null,
      "outputs": []
    },
    {
      "cell_type": "code",
      "source": [
        "numero = 5\n",
        "print(numero)\n",
        "print(type(numero))\n"
      ],
      "metadata": {
        "colab": {
          "base_uri": "https://localhost:8080/"
        },
        "id": "Kd0ljkwwqELd",
        "outputId": "5983cd49-a7ff-4b0b-bad6-e643a903c9d6"
      },
      "execution_count": null,
      "outputs": [
        {
          "output_type": "stream",
          "name": "stdout",
          "text": [
            "5\n",
            "<class 'int'>\n"
          ]
        }
      ]
    },
    {
      "cell_type": "code",
      "source": [
        "bebida_favorita = \"Suco\"\n",
        "print(bebida_favorita)\n",
        "print(type(bebida_favorita))\n",
        "\n",
        "bebida_preco = 5.99\n",
        "print(bebida_preco)\n",
        "print(type(bebida_preco))\n",
        "\n",
        "bebida_alcoolica = False\n",
        "print(bebida_alcoolica)\n",
        "print(type(bebida_alcoolica))"
      ],
      "metadata": {
        "colab": {
          "base_uri": "https://localhost:8080/"
        },
        "id": "USbt3EN1sYsQ",
        "outputId": "301a816c-b88f-4971-f03c-0b82a7a902d7"
      },
      "execution_count": null,
      "outputs": [
        {
          "output_type": "stream",
          "name": "stdout",
          "text": [
            "Suco\n",
            "<class 'str'>\n",
            "5.99\n",
            "<class 'float'>\n",
            "False\n",
            "<class 'bool'>\n"
          ]
        }
      ]
    },
    {
      "cell_type": "markdown",
      "source": [
        "# Operadores Aritméticos"
      ],
      "metadata": {
        "id": "KbYOf4f1thZ1"
      }
    },
    {
      "cell_type": "code",
      "source": [
        "num1 = 10\n",
        "num2 = 2\n",
        "print(num1/num2)"
      ],
      "metadata": {
        "colab": {
          "base_uri": "https://localhost:8080/"
        },
        "id": "1vUvFcCEtmIq",
        "outputId": "3f7dc9d7-0112-459a-fcf0-3b90d195602b"
      },
      "execution_count": null,
      "outputs": [
        {
          "output_type": "stream",
          "name": "stdout",
          "text": [
            "5.0\n"
          ]
        }
      ]
    },
    {
      "cell_type": "markdown",
      "source": [
        "# Operadores Relacionais"
      ],
      "metadata": {
        "id": "GhRTM5Cbv0SK"
      }
    },
    {
      "cell_type": "code",
      "source": [
        "# >, <\n",
        "print(12 !=8)\n",
        "\n",
        "texto = \"pão\"\n",
        "print(texto != \"Pão\")\n",
        "\n",
        "booleano = False\n",
        "print(booleano != True)"
      ],
      "metadata": {
        "colab": {
          "base_uri": "https://localhost:8080/"
        },
        "id": "7qHMXUrPv3Q_",
        "outputId": "b1a84482-fbd5-46c8-e914-03daa374a940"
      },
      "execution_count": null,
      "outputs": [
        {
          "output_type": "stream",
          "name": "stdout",
          "text": [
            "True\n",
            "True\n",
            "True\n"
          ]
        }
      ]
    },
    {
      "cell_type": "markdown",
      "source": [
        "# Estruturas Condicionais"
      ],
      "metadata": {
        "id": "vcq0_gJIxKcQ"
      }
    },
    {
      "cell_type": "code",
      "source": [
        "valor_por_pessoa = 40.0\n",
        "bom_amigo = False\n",
        "\n",
        "orcamento = 30\n",
        "if(orcamento >= valor_por_pessoa):\n",
        "  print(\"Consigo pagar.\")\n",
        "elif(bom_amigo == True):\n",
        "  print(\"Obrigado por me ajudar a pagar.\")\n",
        "else:\n",
        "  print(\"Pedir ajuda a outro amigo.\")"
      ],
      "metadata": {
        "id": "aDUmsyMGxOba"
      },
      "execution_count": null,
      "outputs": []
    },
    {
      "cell_type": "markdown",
      "source": [
        "# Estrutura de Repetição"
      ],
      "metadata": {
        "id": "nTsyEd2ozv6V"
      }
    },
    {
      "cell_type": "code",
      "source": [
        "i = 0\n",
        "while(i < 3):\n",
        "  print(\"Olá mundo\")\n",
        "  i = i + 1\n",
        "\n",
        "for i in range(0,3): #ou range(3)\n",
        "  print(\"Nova frase\")"
      ],
      "metadata": {
        "id": "yKV4EUpezzAL"
      },
      "execution_count": null,
      "outputs": []
    },
    {
      "cell_type": "code",
      "source": [
        "for i in range(6):\n",
        "  print(\"Regue a planta\", i)\n",
        "\n",
        "#for i in range(6):\n",
        "   #planta_atual = str(i)\n",
        "   #print(\"Regue a planta \" + planta_atual)"
      ],
      "metadata": {
        "colab": {
          "base_uri": "https://localhost:8080/"
        },
        "id": "RQSuNjnO1LIH",
        "outputId": "fc5a20e7-3f85-4d18-9c1f-0623de3f34ed"
      },
      "execution_count": null,
      "outputs": [
        {
          "output_type": "stream",
          "name": "stdout",
          "text": [
            "Regue a planta 0\n",
            "Regue a planta 1\n",
            "Regue a planta 2\n",
            "Regue a planta 3\n",
            "Regue a planta 4\n",
            "Regue a planta 5\n"
          ]
        }
      ]
    },
    {
      "cell_type": "markdown",
      "source": [
        "# **Função**"
      ],
      "metadata": {
        "id": "E2xLq0TU2-q1"
      }
    },
    {
      "cell_type": "code",
      "source": [
        "def escrever_multiplicacao (num1, num2):\n",
        "  resultado = str(num1) + \" x \" + str(num2) + \" = \" + str(num1 * num2) # ou criar uma variável multiplicação = num1 * num2 e  declara em str(multiplicacao)\n",
        "  return resultado\n",
        "\n",
        "resposta = escrever_multiplicacao(5,8)\n",
        "print(resposta)\n"
      ],
      "metadata": {
        "id": "Fnpm3UN73GRw"
      },
      "execution_count": null,
      "outputs": []
    },
    {
      "cell_type": "code",
      "source": [
        "def mostrar_numero():\n",
        "  numero_valido = False\n",
        "  print(\"Escreva um número menou ou igual a 100.\")\n",
        "  while(numero_valido == False):\n",
        "    try:\n",
        "      num = int(input())\n",
        "      if(num > 100):\n",
        "        print(\"O número precisa ser menou ou igual a 100.\")\n",
        "      else:\n",
        "        print(\"Boa! Você escolheu o número: \" + str(num))\n",
        "        numero_valido = True\n",
        "    except:\n",
        "      print(\"O valor inserido deve ser um número inteiro.\")\n",
        "\n",
        "mostrar_numero()"
      ],
      "metadata": {
        "colab": {
          "base_uri": "https://localhost:8080/"
        },
        "id": "nrI7RJC_5_9z",
        "outputId": "36315407-5fb3-4907-c0e8-6c898a28895f"
      },
      "execution_count": null,
      "outputs": [
        {
          "output_type": "stream",
          "name": "stdout",
          "text": [
            "O valor inserido deve ser um número inteiro.\n",
            "158\n",
            "O número precisa ser menou ou igual a 100.\n",
            "asa\n",
            "O valor inserido deve ser um número inteiro.\n",
            "1\n",
            "Boa! Você escolheu o número: 1\n"
          ]
        }
      ]
    },
    {
      "cell_type": "code",
      "source": [
        "lista_frutas = ['maçã', 'banana', 'pera']\n",
        "print(lista_frutas)\n",
        "\n",
        "# Imprimirá: ['maçã', 'banana', 'pera']"
      ],
      "metadata": {
        "colab": {
          "base_uri": "https://localhost:8080/"
        },
        "id": "BMKHo5cnCA9k",
        "outputId": "50b933f6-f529-4db7-e001-738c3c584087"
      },
      "execution_count": null,
      "outputs": [
        {
          "output_type": "stream",
          "name": "stdout",
          "text": [
            "['maçã', 'banana', 'pera']\n"
          ]
        }
      ]
    },
    {
      "cell_type": "code",
      "source": [
        "lista_frutas = ['maçã', 'banana', 'pera']\n",
        "\n",
        "# 'maçã' tem o índice 0\n",
        "# 'banana' tem o índice 1\n",
        "# 'pera' tem o índice 2"
      ],
      "metadata": {
        "id": "RUEb2TC-CSAP"
      },
      "execution_count": null,
      "outputs": []
    },
    {
      "cell_type": "code",
      "source": [
        "lista_frutas = ['maçã', 'banana', 'pera']\n",
        "print(lista_frutas[0])\n",
        "\n",
        "# Imprimirá: 'maçã'"
      ],
      "metadata": {
        "colab": {
          "base_uri": "https://localhost:8080/"
        },
        "id": "AjVLOZ7eCetp",
        "outputId": "0244acdf-7da7-447c-bd97-6af33b0a5366"
      },
      "execution_count": null,
      "outputs": [
        {
          "output_type": "stream",
          "name": "stdout",
          "text": [
            "maçã\n"
          ]
        }
      ]
    },
    {
      "cell_type": "code",
      "source": [
        "lista_frutas = ['maçã', 'banana', 'pera']\n",
        "fruta_preferida = lista_frutas[2]\n",
        "\n",
        "print(fruta_preferida)\n",
        "print(lista_frutas)\n",
        "\n",
        "# O primeiro print() imprimirá: 'pera'\n",
        "# O segundo print() imprimirá: ['maçã', 'banana', 'pera']"
      ],
      "metadata": {
        "colab": {
          "base_uri": "https://localhost:8080/"
        },
        "id": "K2htjjrFCvGQ",
        "outputId": "722c92b8-3f9f-431a-f9a9-f199066ce372"
      },
      "execution_count": null,
      "outputs": [
        {
          "output_type": "stream",
          "name": "stdout",
          "text": [
            "pera\n",
            "['maçã', 'banana', 'pera']\n"
          ]
        }
      ]
    },
    {
      "cell_type": "code",
      "source": [
        "lista_frutas = ['maçã', 'banana', 'pera']\n",
        "quantidade_frutas = len(lista_frutas)\n",
        "\n",
        "print(quantidade_frutas)\n",
        "\n",
        "# Imprimirá o número 3, pois lista_frutas tem três elementos"
      ],
      "metadata": {
        "id": "0plTGtuOC9YX"
      },
      "execution_count": null,
      "outputs": []
    },
    {
      "cell_type": "code",
      "source": [
        "lista_frutas = ['maçã', 'banana', 'pera']\n",
        "\n",
        "print(len(lista_frutas))\n",
        "\n",
        "# Também imprimirá o número 3"
      ],
      "metadata": {
        "colab": {
          "base_uri": "https://localhost:8080/"
        },
        "id": "e3bKutGnDT99",
        "outputId": "8c59d608-cfc9-46be-ae4d-1b65ebbee5f0"
      },
      "execution_count": null,
      "outputs": [
        {
          "output_type": "stream",
          "name": "stdout",
          "text": [
            "3\n"
          ]
        }
      ]
    },
    {
      "cell_type": "code",
      "source": [
        "lista_frutas = ['maçã', 'banana', 'pera']\n",
        "\n",
        "# O valor do índice de 'pera', o último elemento do array, é 2\n",
        "# O valor do len(lista_frutas) é 3"
      ],
      "metadata": {
        "id": "qVA55ORxDlA1"
      },
      "execution_count": null,
      "outputs": []
    },
    {
      "cell_type": "code",
      "source": [
        "lista_frutas = ['maçã', 'banana', 'pera']\n",
        "\n",
        "print(lista_frutas[0])\n",
        "print(lista_frutas[1])\n",
        "print(lista_frutas[2])\n",
        "\n",
        "# Imprimirá:\n",
        "# maçã\n",
        "# banana\n",
        "# pera"
      ],
      "metadata": {
        "id": "1gVvr-lXXKF7"
      },
      "execution_count": null,
      "outputs": []
    },
    {
      "cell_type": "code",
      "source": [
        "# Percorrer arrays - Python\n",
        "\n",
        "lista_frutas = ['maçã', 'banana', 'pera']\n",
        "\n",
        "for i in range(3):\n",
        "  print(lista_frutas[i])\n",
        "\n",
        "# Imprimirá:\n",
        "# maçã\n",
        "# banana\n",
        "# pera"
      ],
      "metadata": {
        "id": "BkHW4WfUXPcz"
      },
      "execution_count": null,
      "outputs": []
    },
    {
      "cell_type": "code",
      "source": [
        "lista_num = [2, 45, 65, 78, 126, 987, 457, 345, 679, 107, 2345, 452, 3, 34, 560]\n",
        "\n",
        "for i in range(15):\n",
        "  print(lista_num[i])"
      ],
      "metadata": {
        "id": "Cy6vBe6pY0e3"
      },
      "execution_count": null,
      "outputs": []
    },
    {
      "cell_type": "code",
      "source": [
        "lista_num = [2, 45, 65, 78, 126, 987, 457, 345, 679, 107, 2345, 452, 3, 34, 560]\n",
        "\n",
        "for i in range(len(lista_num)):\n",
        "  print(lista_num[i])"
      ],
      "metadata": {
        "colab": {
          "base_uri": "https://localhost:8080/"
        },
        "id": "vS3L6Hz0Y9Bo",
        "outputId": "a4eb2214-dfb8-40c5-a28f-f0f66b0998fc"
      },
      "execution_count": 10,
      "outputs": [
        {
          "output_type": "stream",
          "name": "stdout",
          "text": [
            "2\n",
            "45\n",
            "65\n",
            "78\n",
            "126\n",
            "987\n",
            "457\n",
            "345\n",
            "679\n",
            "107\n",
            "2345\n",
            "452\n",
            "3\n",
            "34\n",
            "560\n"
          ]
        }
      ]
    }
  ]
}